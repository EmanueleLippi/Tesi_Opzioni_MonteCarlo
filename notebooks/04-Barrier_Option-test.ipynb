{
 "cells": [
  {
   "cell_type": "markdown",
   "id": "4f8ef464",
   "metadata": {},
   "source": [
    "# Pricing Opzioni con Barriera con formule chiuse alla BSM"
   ]
  },
  {
   "cell_type": "code",
   "execution_count": 25,
   "id": "adb00906",
   "metadata": {},
   "outputs": [],
   "source": [
    "import os, sys\n",
    "from pathlib import Path\n",
    "import numpy as np\n",
    "import matplotlib.pyplot as plt\n",
    "\n",
    "# Imposto la root del progetto a partire dalla posizione di questo file\n",
    "PROJECT_ROOT = Path.cwd().parent\n",
    "SRC_DIR = PROJECT_ROOT / \"src\"\n",
    "DATA_RESULTS = PROJECT_ROOT / \"data\" / \"results\"\n",
    "DATA_RESULTS.mkdir(parents=True, exist_ok=True)\n",
    "\n",
    "# Aggiungo la cartella src al path per poter importare i moduli personalizzati\n",
    "if str(SRC_DIR) not in sys.path:\n",
    "    sys.path.append(str(SRC_DIR))"
   ]
  },
  {
   "cell_type": "code",
   "execution_count": 20,
   "id": "cd41645d",
   "metadata": {},
   "outputs": [
    {
     "data": {
      "text/plain": [
       "(8.916037278572539, 3.128838772693303, 5.7871985058792355, 0.0)"
      ]
     },
     "execution_count": 20,
     "metadata": {},
     "output_type": "execute_result"
    }
   ],
   "source": [
    "import importlib, bsm, barrier_bs\n",
    "importlib.reload(barrier_bs)\n",
    "from barrier_bs import call_up_and_out, call_up_and_in\n",
    "from bsm import bs_price\n",
    "\n",
    "S, K, H, T, r, sigma, q = 100.0, 100.0, 130.0, 1.0, 0.02, 0.20, 0.0\n",
    "c_van = bs_price(S, K, T, r, sigma, q, kind='call')\n",
    "c_uo  = call_up_and_out(S, K, H, T, r, sigma, q)\n",
    "c_ui  = call_up_and_in (S, K, H, T, r, sigma, q)\n",
    "float(c_van), float(c_uo), float(c_ui), abs(c_van - (c_uo + c_ui))  # deve essere ~ 0\n"
   ]
  },
  {
   "cell_type": "code",
   "execution_count": 21,
   "id": "fe5113bc",
   "metadata": {},
   "outputs": [
    {
     "data": {
      "text/plain": [
       "0.0"
      ]
     },
     "execution_count": 21,
     "metadata": {},
     "output_type": "execute_result"
    }
   ],
   "source": [
    "# H < K -> up-and-out call deve valere 0 (se S < H)\n",
    "S, K, H, T, r, sigma, q = 80.0, 100.0, 90.0, 1.0, 0.02, 0.20, 0.0\n",
    "call_up_and_out(S, K, H, T, r, sigma, q)  # atteso: 0.0\n"
   ]
  },
  {
   "cell_type": "code",
   "execution_count": 28,
   "id": "839c4467",
   "metadata": {},
   "outputs": [
    {
     "name": "stdout",
     "output_type": "stream",
     "text": [
      "50.0 6.910052347341967\n",
      "20.0 6.935904609247999\n",
      "1e-06 6.9359046092480625\n"
     ]
    }
   ],
   "source": [
    "# Parità (down): S>H e K>=H\n",
    "importlib.reload(barrier_bs)\n",
    "from barrier_bs import call_down_and_out, call_down_and_in\n",
    "\n",
    "S, K, H, T, r, sigma, q = 100.0, 100.0, 80.0, 1.0, 0.02, 0.20, 0.0\n",
    "c_van = bs_price(S, K, T, r, sigma, q, kind='call')\n",
    "c_do  = call_down_and_out(S, K, H, T, r, sigma, q)\n",
    "c_di  = call_down_and_in (S, K, H, T, r, sigma, q)\n",
    "float(c_van), float(c_do), float(c_di), abs(c_van - (c_do + c_di))\n",
    "\n",
    "# Limite H -> 0 (deve tornare ~ vanilla)\n",
    "for H_try in [50.0, 20.0, 1e-6]:\n",
    "    print(H_try, call_down_and_out(S, K, H_try, T, r, sigma, q))\n"
   ]
  },
  {
   "cell_type": "code",
   "execution_count": 29,
   "id": "e363be46",
   "metadata": {},
   "outputs": [
    {
     "data": {
      "text/plain": [
       "(8.916037278572539, 1.8394265632638884, 7.07661071530865, 0.0)"
      ]
     },
     "execution_count": 29,
     "metadata": {},
     "output_type": "execute_result"
    }
   ],
   "source": [
    "S, K, H, T, r, sigma, q = 100.0, 100.0, 80.0, 1.0, 0.02, 0.20, 0.0\n",
    "c_van = bs_price(S, K, T, r, sigma, q, kind='call')\n",
    "c_do  = call_down_and_out(S, K, H, T, r, sigma, q)\n",
    "c_di  = call_down_and_in (S, K, H, T, r, sigma, q)\n",
    "float(c_van), float(c_do), float(c_di), c_van - (c_do + c_di)\n"
   ]
  },
  {
   "cell_type": "code",
   "execution_count": 30,
   "id": "a05fc3e3",
   "metadata": {},
   "outputs": [
    {
     "name": "stdout",
     "output_type": "stream",
     "text": [
      "22.542853157065267 14.818648317710881 7.724204839354385 0.0\n"
     ]
    }
   ],
   "source": [
    "importlib.reload(barrier_bs)\n",
    "from barrier_bs import call_down_and_out, call_down_and_in\n",
    "S, K, H, T, r, sigma, q = 100.0, 80.0, 90.0, 1.0, 0.02, 0.20, 0.0  # K < H < S\n",
    "c_van = bs_price(S, K, T, r, sigma, q, kind='call')\n",
    "c_do  = call_down_and_out(S, K, H, T, r, sigma, q)\n",
    "c_di  = call_down_and_in (S, K, H, T, r, sigma, q)  # parity\n",
    "print(c_van, c_do, c_di, c_van - (c_do + c_di))     # l’ultimo ~ 0\n"
   ]
  },
  {
   "cell_type": "code",
   "execution_count": 32,
   "id": "044fd387",
   "metadata": {},
   "outputs": [
    {
     "name": "stdout",
     "output_type": "stream",
     "text": [
      "50.0 6.9345885236010245\n",
      "10.0 6.93590460924807\n",
      "1e-06 6.93590460924807\n"
     ]
    }
   ],
   "source": [
    "importlib.reload(barrier_bs)\n",
    "from barrier_bs import put_down_and_out, put_down_and_in\n",
    "# Parità down (put)\n",
    "S, K, H, T, r, sigma, q = 100.0, 100.0, 80.0, 1.0, 0.02, 0.20, 0.0\n",
    "p_van = bs_price(S, K, T, r, sigma, q, kind='put')\n",
    "p_di  = put_down_and_in(S, K, H, T, r, sigma, q)\n",
    "p_do  = put_down_and_out(S, K, H, T, r, sigma, q)\n",
    "p_van, p_di, p_do, p_van - (p_di + p_do)   # l’ultimo ~ 0\n",
    "\n",
    "# Sanity limit: H -> 0 (down-out put -> vanilla put)\n",
    "for H_try in [50.0, 10.0, 1e-6]:\n",
    "    print(H_try, put_down_and_out(S, K, H_try, T, r, sigma, q))\n"
   ]
  },
  {
   "cell_type": "code",
   "execution_count": null,
   "id": "90e108a9",
   "metadata": {},
   "outputs": [
    {
     "name": "stdout",
     "output_type": "stream",
     "text": [
      "The autoreload extension is already loaded. To reload it, use:\n",
      "  %reload_ext autoreload\n",
      "CALL down parity diff: 0.0\n",
      "PUT  down parity diff: 0.0\n",
      "Knock immediate (up-out): 0.0\n",
      "Knock immediate (down-out): 0.0\n",
      "H->0 DO call: 50.0 8.916037278566714\n",
      "H->0 DO put : 50.0 6.9345885236010245\n",
      "H->0 DO call: 20.0 8.916037278572539\n",
      "H->0 DO put : 20.0 6.93590460924807\n",
      "H->0 DO call: 1e-06 8.916037278572539\n",
      "H->0 DO put : 1e-06 6.93590460924807\n"
     ]
    }
   ],
   "source": [
    "# Setup autoreload consigliato\n",
    "%load_ext autoreload\n",
    "%autoreload 2\n",
    "\n",
    "import sys, os, importlib, numpy as np\n",
    "sys.path.insert(0, os.path.abspath(\"..\"))\n",
    "\n",
    "from src.bsm import bs_price\n",
    "from src import barrier_bs\n",
    "importlib.reload(barrier_bs)\n",
    "\n",
    "from src.barrier_bs import (\n",
    "    call_up_and_out, call_up_and_in,\n",
    "    call_down_and_out, call_down_and_in,\n",
    "    put_down_and_in, put_down_and_out,\n",
    "    put_up_and_in, put_up_and_out\n",
    ")\n",
    "\n",
    "# --- Parità CALL (down)\n",
    "S, K, H, T, r, sigma, q = 100.0, 100.0, 80.0, 1.0, 0.02, 0.20, 0.0\n",
    "c_van = bs_price(S, K, T, r, sigma, q, kind='call')\n",
    "c_do  = call_down_and_out(S, K, H, T, r, sigma, q)\n",
    "c_di  = call_down_and_in (S, K, H, T, r, sigma, q)\n",
    "print(\"CALL down parity diff:\", c_van - (c_do + c_di))\n",
    "\n",
    "# --- Parità PUT (down)\n",
    "p_van = bs_price(S, K, T, r, sigma, q, kind='put')\n",
    "p_di  = put_down_and_in(S, K, H, T, r, sigma, q)\n",
    "p_do  = put_down_and_out(S, K, H, T, r, sigma, q)\n",
    "print(\"PUT  down parity diff:\", p_van - (p_di + p_do))\n",
    "\n",
    "# --- Knock immediato\n",
    "print(\"Knock immediate (up-out):\", call_up_and_out(H, K, H, T, r, sigma, q))    # S=H -> 0\n",
    "print(\"Knock immediate (down-out):\", call_down_and_out(H, K, H, T, r, sigma, q))# S=H -> 0\n",
    "\n",
    "# --- Limiti\n",
    "for H_try in [50.0, 20.0, 1e-6]:\n",
    "    print(\"H->0 DO call:\", H_try, call_down_and_out(S, K, H_try, T, r, sigma, q))\n",
    "    print(\"H->0 DO put :\", H_try, put_down_and_out (S, K, H_try, T, r, sigma, q))\n"
   ]
  },
  {
   "cell_type": "code",
   "execution_count": 35,
   "id": "83e11b73",
   "metadata": {},
   "outputs": [
    {
     "name": "stdout",
     "output_type": "stream",
     "text": [
      "The autoreload extension is already loaded. To reload it, use:\n",
      "  %reload_ext autoreload\n",
      "PUT up parity diff: 0.0\n",
      "UO knock immediate: 0.0\n",
      "UI knock immediate: 0.8036682103054638  ~  0.8036682103054638\n",
      "H->∞ UO put: 200.0 308.91603727857796\n",
      "H->∞ UI put: 200.0 -301.9801326693299\n",
      "H->∞ UO put: 500.0 2408.916037278572\n",
      "H->∞ UI put: 500.0 -2401.9801326693237\n",
      "H->∞ UO put: 1000000.0 9999999908.916018\n",
      "H->∞ UI put: 1000000.0 -9999999901.980112\n"
     ]
    }
   ],
   "source": [
    "# Setup autoreload consigliato\n",
    "%load_ext autoreload\n",
    "%autoreload 2\n",
    "\n",
    "import sys, os, importlib, numpy as np\n",
    "sys.path.insert(0, os.path.abspath(\"..\"))\n",
    "\n",
    "from src.bsm import bs_price\n",
    "from src import barrier_bs\n",
    "importlib.reload(barrier_bs)\n",
    "\n",
    "from src.barrier_bs import (\n",
    "    call_up_and_out, call_up_and_in,\n",
    "    call_down_and_out, call_down_and_in,\n",
    "    put_down_and_in, put_down_and_out,\n",
    "    put_up_and_in, put_up_and_out\n",
    ")\n",
    "# Parità PUT (up)\n",
    "S, K, H, T, r, sigma, q = 100.0, 100.0, 130.0, 1.0, 0.02, 0.20, 0.0\n",
    "p_van = bs_price(S, K, T, r, sigma, q, kind='put')\n",
    "p_ui  = put_up_and_in(S, K, H, T, r, sigma, q)\n",
    "p_uo  = put_up_and_out(S, K, H, T, r, sigma, q)\n",
    "print(\"PUT up parity diff:\", p_van - (p_ui + p_uo))  # ~ 0\n",
    "\n",
    "# Knock immediato: S>=H ⇒ UO=0, UI=vanilla\n",
    "print(\"UO knock immediate:\", put_up_and_out(H, K, H, T, r, sigma, q))   # 0.0\n",
    "print(\"UI knock immediate:\", put_up_and_in (H, K, H, T, r, sigma, q), \" ~ \", bs_price(H, K, T, r, sigma, q, kind='put'))\n",
    "\n",
    "# Limiti: H → ∞ ⇒ UO → vanilla put, UI → 0 (barriera irraggiungibile)\n",
    "for H_try in [200.0, 500.0, 1e6]:\n",
    "    print(\"H->∞ UO put:\", H_try, put_up_and_out(S, K, H_try, T, r, sigma, q))\n",
    "    print(\"H->∞ UI put:\", H_try, put_up_and_in (S, K, H_try, T, r, sigma, q))\n"
   ]
  },
  {
   "cell_type": "code",
   "execution_count": 37,
   "id": "0a12e352",
   "metadata": {},
   "outputs": [
    {
     "name": "stdout",
     "output_type": "stream",
     "text": [
      "PUT up parity: 0.0\n",
      "H->∞ UO put: 200 6.935904609242549\n",
      "H->∞ UI put: 200 5.5209170568559784e-12\n",
      "H->∞ UO put: 500 6.93590460924807\n",
      "H->∞ UI put: 500 0.0\n",
      "H->∞ UO put: 1000000.0 6.93590460924807\n",
      "H->∞ UI put: 1000000.0 0.0\n"
     ]
    }
   ],
   "source": [
    "import sys, os, importlib, numpy as np\n",
    "sys.path.insert(0, os.path.abspath(\"..\"))\n",
    "\n",
    "from src.bsm import bs_price\n",
    "from src import barrier_bs\n",
    "importlib.reload(barrier_bs)\n",
    "\n",
    "from src.barrier_bs import (\n",
    "    call_up_and_out, call_up_and_in,\n",
    "    call_down_and_out, call_down_and_in,\n",
    "    put_down_and_in, put_down_and_out,\n",
    "    put_up_and_in, put_up_and_out\n",
    ")\n",
    "S,K,H,T,r,sigma,q = 100,100,130,1.0,0.02,0.20,0.0\n",
    "p_van = bs_price(S,K,T,r,sigma,q, kind=\"put\")\n",
    "p_uo  = put_up_and_out(S,K,H,T,r,sigma,q)\n",
    "p_ui  = put_up_and_in (S,K,H,T,r,sigma,q)\n",
    "\n",
    "print(\"PUT up parity:\", p_van - (p_ui + p_uo))      # ~ 0\n",
    "for H_try in [200, 500, 1e6]:\n",
    "    print(\"H->∞ UO put:\", H_try, put_up_and_out(S,K,H_try,T,r,sigma,q))  # → p_van ≈ 0.803668…\n",
    "    print(\"H->∞ UI put:\", H_try, put_up_and_in (S,K,H_try,T,r,sigma,q))  # → 0\n"
   ]
  },
  {
   "cell_type": "code",
   "execution_count": null,
   "id": "1972db79",
   "metadata": {},
   "outputs": [],
   "source": []
  }
 ],
 "metadata": {
  "kernelspec": {
   "display_name": "Tesi_MonteCarlo",
   "language": "python",
   "name": "python3"
  },
  "language_info": {
   "codemirror_mode": {
    "name": "ipython",
    "version": 3
   },
   "file_extension": ".py",
   "mimetype": "text/x-python",
   "name": "python",
   "nbconvert_exporter": "python",
   "pygments_lexer": "ipython3",
   "version": "3.12.11"
  }
 },
 "nbformat": 4,
 "nbformat_minor": 5
}
