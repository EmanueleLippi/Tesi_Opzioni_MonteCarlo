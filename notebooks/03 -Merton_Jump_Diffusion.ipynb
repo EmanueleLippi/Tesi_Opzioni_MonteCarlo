{
 "cells": [
  {
   "cell_type": "markdown",
   "id": "80b7f5d6",
   "metadata": {},
   "source": [
    "# 03 - Merton Jump Diffusion Model"
   ]
  },
  {
   "cell_type": "markdown",
   "id": "c46c5703",
   "metadata": {},
   "source": [
    "## 0 - Setup Ambiente"
   ]
  },
  {
   "cell_type": "code",
   "execution_count": 6,
   "id": "0fe38a72",
   "metadata": {},
   "outputs": [],
   "source": [
    "import os, sys\n",
    "from pathlib import Path\n",
    "import numpy as np\n",
    "import matplotlib.pyplot as plt\n",
    "\n",
    "# Imposto la root del progetto a partire dalla posizione di questo file\n",
    "PROJECT_ROOT = Path.cwd().parent\n",
    "SRC_DIR = PROJECT_ROOT / \"src\"\n",
    "DATA_RESULTS = PROJECT_ROOT / \"data\" / \"results\"\n",
    "DATA_RESULTS.mkdir(parents=True, exist_ok=True)\n",
    "\n",
    "# Aggiungo la cartella src al path per poter importare i moduli personalizzati\n",
    "if str(SRC_DIR) not in sys.path:\n",
    "    sys.path.append(str(SRC_DIR))"
   ]
  },
  {
   "cell_type": "code",
   "execution_count": 10,
   "id": "e2f8a4e3",
   "metadata": {},
   "outputs": [],
   "source": [
    "import importlib, merton_jd\n",
    "importlib.reload(merton_jd) # per ricaricare il modulo dopo averlo modificato\n",
    "from merton_jd import JDParams, simulate_merton_jd, price_euro_call_mc_jd, discounted_martingale_error, merton_cf_call\n",
    "from bsm import bs_price, bs_greeks, implied_vol\n",
    "from utils_plot import plot_paths"
   ]
  },
  {
   "cell_type": "code",
   "execution_count": 11,
   "id": "25e872f7",
   "metadata": {},
   "outputs": [
    {
     "name": "stdout",
     "output_type": "stream",
     "text": [
      "CF λ=0: 8.124489368981159  | BSM: 8.916037278572539\n",
      "Closed-form: 9.039347827960746\n",
      "Monte Carlo: 11.667349945675907 ± 0.2764567128434369\n"
     ]
    }
   ],
   "source": [
    "# Parametri base\n",
    "S0, K, T, r, q = 100.0, 100.0, 1.0, 0.02, 0.00\n",
    "params = JDParams(sigma=0.20, lam=0.60, mu_J=-0.10, sigma_J=0.25)\n",
    "\n",
    "# 1) Consistenza con BSM quando lam=0\n",
    "params_l0 = JDParams(sigma=0.20, lam=0.0, mu_J=-0.10, sigma_J=0.25)\n",
    "cf_l0 = merton_cf_call(S0, K, T, r, q, params_l0, trunc=0)\n",
    "bs = bs_price(S0, K, T, r, params_l0.sigma, q, kind=\"call\")\n",
    "print(\"CF λ=0:\", cf_l0, \" | BSM:\", bs)\n",
    "pr_mc, se_mc = price_euro_call_mc_jd(S0, K, r, q, params, T, N=252, M=20000, seed=7, antithetic=True)\n",
    "pr_cf = merton_cf_call(S0, K, T, r, q, params, trunc=60)\n",
    "print(\"Closed-form:\", pr_cf)\n",
    "print(\"Monte Carlo:\", pr_mc, \"±\", 1.96*se_mc)\n"
   ]
  },
  {
   "cell_type": "code",
   "execution_count": null,
   "id": "142c391c",
   "metadata": {},
   "outputs": [],
   "source": []
  }
 ],
 "metadata": {
  "kernelspec": {
   "display_name": "Finance",
   "language": "python",
   "name": "python3"
  },
  "language_info": {
   "codemirror_mode": {
    "name": "ipython",
    "version": 3
   },
   "file_extension": ".py",
   "mimetype": "text/x-python",
   "name": "python",
   "nbconvert_exporter": "python",
   "pygments_lexer": "ipython3",
   "version": "3.12.11"
  }
 },
 "nbformat": 4,
 "nbformat_minor": 5
}
